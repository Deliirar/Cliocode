{
 "cells": [
  {
   "attachments": {},
   "cell_type": "markdown",
   "metadata": {},
   "source": [
    "# **Climate code 2023**"
   ]
  },
  {
   "attachments": {},
   "cell_type": "markdown",
   "metadata": {},
   "source": [
    "Los datos categóricos se transformaron antes de ser ingresados de la siguiente manera\n",
    "\n",
    "Categoría | Num \n",
    "--- | --- \n",
    "Parcialmente de acuerdo. | 4  \n",
    "Totalmente de acuerdo. | 3\n",
    "Parcialmente en desacuerdo. | 2\n",
    "Totalmente en desacuerdo. | 1"
   ]
  },
  {
   "cell_type": "code",
   "execution_count": null,
   "metadata": {},
   "outputs": [],
   "source": [
    "#Instalar paquetes\n",
    "import pandas as pd\n",
    "import numpy as np\n",
    "import matplotlib.pyplot as plt\n",
    "from matplotlib import style\n",
    "import seaborn as sns\n",
    "import statsmodels.api as sm\n",
    "from scipy import stats\n",
    "import math\n",
    "import base64\n",
    "import datetime\n",
    "import base64\n",
    "from scipy.stats import pearsonr\n",
    "import sys\n",
    "from sklearn.experimental import enable_iterative_imputer\n",
    "from sklearn.impute import IterativeImputer\n",
    "import nltk\n",
    "nltk.download('punkt')"
   ]
  },
  {
   "attachments": {},
   "cell_type": "markdown",
   "metadata": {},
   "source": [
    "## **Subir archivo**"
   ]
  },
  {
   "cell_type": "code",
   "execution_count": null,
   "metadata": {},
   "outputs": [],
   "source": [
    "#Subir el archivo\n",
    "df = pd.read_excel(\"C:/Users/emcamargop/Desktop/ClioCODE/InputPhytonEmpresa2023.xlsx\",\"Datos\")\n",
    "pd.options.display.max_columns = 200\n",
    "df.head()"
   ]
  },
  {
   "attachments": {},
   "cell_type": "markdown",
   "metadata": {},
   "source": [
    "### Separar info"
   ]
  },
  {
   "cell_type": "code",
   "execution_count": null,
   "metadata": {},
   "outputs": [],
   "source": [
    "#Ver todas las columnas\n",
    "print(df.columns.tolist())"
   ]
  },
  {
   "cell_type": "code",
   "execution_count": null,
   "metadata": {},
   "outputs": [],
   "source": [
    "#Sacar columnas del instrumento y demograficas\n",
    "\n",
    "dfClio= df.copy()\n",
    "#Eliminar todo menos el instrumento & IDs\n",
    "dfClio = dfClio.drop(columns=['Min', 'CC', 'Municipio/Ciudad de nacimiento', 'Rango de Edad', 'Identidad de Género', '¿Cuenta con alguna discapacidad?', 'Nivel de escolaridad', 'Estado Civil', 'Número de Hijos', 'Edad de los Hijos', 'Tiene hijos de 0 - 5 años', 'Tiene hijos de 6 - 11 años', 'Tiene hijos de 12 - 17 años', 'Tiene hijos de 18 en adelante', 'Tipo de Vivienda','TEXT1', 'TEXT2', 'SATISF1', 'ONEWORD'])\n",
    "\n",
    "dfdemog= df.copy()\n",
    "#Eliminar no demográficos\n",
    "dfdemog = dfdemog.drop(columns=['MAC_Mot_1', 'MAC_Mot_2', 'MAC_Mot_3', 'MAC_Mot_4', 'MAC_Com_5', 'MAC_Com_6', 'MAC_Com_7', 'MAC_Com_8', 'MAC_Rel_9', 'MAC_Rel_10', 'MAC_Rel_11', 'MAC_Fun_12', 'MAC_Fun_13', 'MAC_Fun_14', 'MAC_Fun_15', 'MAC_Est_16', 'MAC_Est_17', 'MAC_Est_18', 'MAC_LidTransac_19', 'MAC_LidTransac_20', 'MAC_LidTransfor_21', 'MAC_LidTransfor_22', 'MAC_LidTransfor_23', 'MAC_LidAct_24', 'MAC_LidAct_25', 'MAC_Par_26', 'MAC_Par_27', 'MAC_Sol_28', 'MAC_Sol_29', 'MAC_Tra_30', 'MAC_Tra_31', 'MAC_Tra_32', 'MIC_Mot_33', 'MIC_Mot_34', 'MIC_Mot_35', 'MIC_Com_36', 'MIC_Com_37', 'MIC_Com_38', 'MIC_Rel_39', 'MIC_Rel_40', 'MIC_Fun_41', 'MIC_Fun_42', 'MIC_Est_43', 'MIC_Est_44', 'MIC_LidTransac_45', 'MIC_LidTransac_46', 'MIC_LidTransac_47', 'MIC_LidTransac_48', 'MIC_LidTransfor_49', 'MIC_LidTransfor_50', 'MIC_LidTransfor_51', 'MIC_LidTransfor_52', 'MIC_LidTransfor_53', 'MIC_LidAct_54', 'MIC_LidAct_55', 'MIC_Par_56', 'MIC_Par_57', 'MIC_Par_58', 'MIC_Sol_59', 'MIC_Sol_60', 'MIC_Sol_61', 'MIC_Tra_62', 'MIC_Tra_63', 'CLI_Mot_64', 'CLI_Mot_65', 'CLI_Mot_66', 'CLI_Mot_67', 'CLI_Com_68', 'CLI_Com_69', 'CLI_Rel_70', 'CLI_Rel_71', 'CLI_Fun_72', 'CLI_Fun_73', 'CLI_Con_74', 'CLI_Con_75', 'CLI_Con_76', 'CLI_Con_77', 'CLI_Est_78', 'CLI_Est_79', 'CLI_Est_80', 'CLI_LidTransac_81', 'CLI_LidTransac_82', 'CLI_LidAct_83', 'CLI_LidAct_84', 'CLI_Par_85', 'CLI_Par_86', 'CLI_Sol_87', 'CLI_Sol_88', 'CLI_Tra_89', 'CLI_Tra_90', 'TEXT1', 'TEXT2', 'SATISF1', 'ONEWORD'])\n",
    "\n",
    "dfadi= df.copy()\n",
    "#Eliminar todo menos las preguntas adicionales & ID\n",
    "dfadi = dfadi.drop(columns=[ 'Min', 'CC', 'Municipio/Ciudad de nacimiento', 'Rango de Edad', 'Identidad de Género', '¿Cuenta con alguna discapacidad?', 'Nivel de escolaridad', 'Estado Civil', 'Número de Hijos', 'Edad de los Hijos', 'Tiene hijos de 0 - 5 años', 'Tiene hijos de 6 - 11 años', 'Tiene hijos de 12 - 17 años', 'Tiene hijos de 18 en adelante', 'Tipo de Vivienda', 'MAC_Mot_1', 'MAC_Mot_2', 'MAC_Mot_3', 'MAC_Mot_4', 'MAC_Com_5', 'MAC_Com_6', 'MAC_Com_7', 'MAC_Com_8', 'MAC_Rel_9', 'MAC_Rel_10', 'MAC_Rel_11', 'MAC_Fun_12', 'MAC_Fun_13', 'MAC_Fun_14', 'MAC_Fun_15', 'MAC_Est_16', 'MAC_Est_17', 'MAC_Est_18', 'MAC_LidTransac_19', 'MAC_LidTransac_20', 'MAC_LidTransfor_21', 'MAC_LidTransfor_22', 'MAC_LidTransfor_23', 'MAC_LidAct_24', 'MAC_LidAct_25', 'MAC_Par_26', 'MAC_Par_27', 'MAC_Sol_28', 'MAC_Sol_29', 'MAC_Tra_30', 'MAC_Tra_31', 'MAC_Tra_32', 'MIC_Mot_33', 'MIC_Mot_34', 'MIC_Mot_35', 'MIC_Com_36', 'MIC_Com_37', 'MIC_Com_38', 'MIC_Rel_39', 'MIC_Rel_40', 'MIC_Fun_41', 'MIC_Fun_42', 'MIC_Est_43', 'MIC_Est_44', 'MIC_LidTransac_45', 'MIC_LidTransac_46', 'MIC_LidTransac_47', 'MIC_LidTransac_48', 'MIC_LidTransfor_49', 'MIC_LidTransfor_50', 'MIC_LidTransfor_51', 'MIC_LidTransfor_52', 'MIC_LidTransfor_53', 'MIC_LidAct_54', 'MIC_LidAct_55', 'MIC_Par_56', 'MIC_Par_57', 'MIC_Par_58', 'MIC_Sol_59', 'MIC_Sol_60', 'MIC_Sol_61', 'MIC_Tra_62', 'MIC_Tra_63', 'CLI_Mot_64', 'CLI_Mot_65', 'CLI_Mot_66', 'CLI_Mot_67', 'CLI_Com_68', 'CLI_Com_69', 'CLI_Rel_70', 'CLI_Rel_71', 'CLI_Fun_72', 'CLI_Fun_73', 'CLI_Con_74', 'CLI_Con_75', 'CLI_Con_76', 'CLI_Con_77', 'CLI_Est_78', 'CLI_Est_79', 'CLI_Est_80', 'CLI_LidTransac_81', 'CLI_LidTransac_82', 'CLI_LidAct_83', 'CLI_LidAct_84', 'CLI_Par_85', 'CLI_Par_86', 'CLI_Sol_87', 'CLI_Sol_88', 'CLI_Tra_89', 'CLI_Tra_90'])"
   ]
  },
  {
   "attachments": {},
   "cell_type": "markdown",
   "metadata": {},
   "source": [
    "# **Clio**\n",
    "### Crear sumatorias"
   ]
  },
  {
   "cell_type": "code",
   "execution_count": null,
   "metadata": {},
   "outputs": [],
   "source": [
    "#Convertir a float\n",
    "dfClio = dfClio.apply(pd.to_numeric, downcast=\"integer\")"
   ]
  },
  {
   "cell_type": "code",
   "execution_count": null,
   "metadata": {},
   "outputs": [],
   "source": [
    "#GLOBAL\n",
    "\n",
    "dfClio[\"GLOBAL_GLOBAL\"] = dfClio[['MAC_Mot_1', 'MAC_Mot_2', 'MAC_Mot_3', 'MAC_Mot_4', 'MAC_Com_5', 'MAC_Com_6', 'MAC_Com_7', 'MAC_Com_8', 'MAC_Rel_9', 'MAC_Rel_10', 'MAC_Rel_11', 'MAC_Fun_12', 'MAC_Fun_13', 'MAC_Fun_14', 'MAC_Fun_15', 'MAC_Est_16', 'MAC_Est_17', 'MAC_Est_18', 'MAC_LidTransac_19', 'MAC_LidTransac_20', 'MAC_LidTransfor_21', 'MAC_LidTransfor_22', 'MAC_LidTransfor_23', 'MAC_LidAct_24', 'MAC_LidAct_25', 'MAC_Par_26', 'MAC_Par_27', 'MAC_Sol_28', 'MAC_Sol_29', 'MAC_Tra_30', 'MAC_Tra_31', 'MAC_Tra_32', 'MIC_Mot_33', 'MIC_Mot_34', 'MIC_Mot_35', 'MIC_Com_36', 'MIC_Com_37', 'MIC_Com_38', 'MIC_Rel_39', 'MIC_Rel_40', 'MIC_Fun_41', 'MIC_Fun_42', 'MIC_Est_43', 'MIC_Est_44', 'MIC_LidTransac_45', 'MIC_LidTransac_46', 'MIC_LidTransac_47', 'MIC_LidTransac_48', 'MIC_LidTransfor_49', 'MIC_LidTransfor_50', 'MIC_LidTransfor_51', 'MIC_LidTransfor_52', 'MIC_LidTransfor_53', 'MIC_LidAct_54', 'MIC_LidAct_55', 'MIC_Par_56', 'MIC_Par_57', 'MIC_Par_58', 'MIC_Sol_59', 'MIC_Sol_60', 'MIC_Sol_61', 'MIC_Tra_62', 'MIC_Tra_63', 'CLI_Mot_64', 'CLI_Mot_65', 'CLI_Mot_66', 'CLI_Mot_67', 'CLI_Com_68', 'CLI_Com_69', 'CLI_Rel_70', 'CLI_Rel_71', 'CLI_Fun_72', 'CLI_Fun_73', 'CLI_Con_74', 'CLI_Con_75', 'CLI_Con_76', 'CLI_Con_77', 'CLI_Est_78', 'CLI_Est_79', 'CLI_Est_80', 'CLI_LidTransac_81', 'CLI_LidTransac_82', 'CLI_LidAct_83', 'CLI_LidAct_84', 'CLI_Par_85', 'CLI_Par_86', 'CLI_Sol_87', 'CLI_Sol_88', 'CLI_Tra_89', 'CLI_Tra_90']].mean(axis=\"columns\")\n",
    "\n",
    "#SUBDIMENSIONES MACROCLIMA\n",
    "dfClio[\"MACROCLIMA_Motivación\"] = dfClio[['MAC_Mot_1', 'MAC_Mot_2', 'MAC_Mot_3', 'MAC_Mot_4']].mean(axis=\"columns\")\n",
    "dfClio[\"MACROCLIMA_Comunicación\"] = dfClio[['MAC_Com_5', 'MAC_Com_6', 'MAC_Com_7', 'MAC_Com_8']].mean(axis=\"columns\")\n",
    "dfClio[\"MACROCLIMA_Relaciones Interpersonales\"] = dfClio[['MAC_Rel_9', 'MAC_Rel_10', 'MAC_Rel_11']].mean(axis=\"columns\")\n",
    "dfClio[\"MACROCLIMA_Funcionamiento\"] = dfClio[['MAC_Fun_12', 'MAC_Fun_13', 'MAC_Fun_14', 'MAC_Fun_15']].mean(axis=\"columns\")\n",
    "dfClio[\"MACROCLIMA_Estímulo desarrollo organizacional\"] = df[['MAC_Est_16', 'MAC_Est_17', 'MAC_Est_18']].mean(axis=\"columns\")\n",
    "dfClio[\"MACROCLIMA_Liderazgo Transaccional\"] = dfClio[['MAC_LidTransac_19', 'MAC_LidTransac_20']].mean(axis=\"columns\")\n",
    "dfClio[\"MACROCLIMA_Liderazgo Transformacional\"] = dfClio[['MAC_LidTransfor_21', 'MAC_LidTransfor_22', 'MAC_LidTransfor_23']].mean(axis=\"columns\")\n",
    "dfClio[\"MACROCLIMA_Liderazgo Activo\"] = dfClio[['MAC_LidAct_24', 'MAC_LidAct_25']].mean(axis=\"columns\")\n",
    "dfClio[\"MACROCLIMA_Participación\"] = dfClio[['MAC_Par_26', 'MAC_Par_27']].mean(axis=\"columns\")\n",
    "dfClio[\"MACROCLIMA_Solución de Problemas\"] = dfClio[['MAC_Sol_28', 'MAC_Sol_29']].mean(axis=\"columns\")\n",
    "dfClio[\"MACROCLIMA_Trabajo en Equipo\"] = dfClio[['MAC_Tra_30', 'MAC_Tra_31', 'MAC_Tra_32']].mean(axis=\"columns\")\n",
    "\n",
    "#SUBDIMENSIONES MICROCLIMA\n",
    "dfClio[\"MICROCLIMA_Motivación\"] = dfClio[['MIC_Mot_33', 'MIC_Mot_34', 'MIC_Mot_35']].mean(axis=\"columns\")\n",
    "dfClio[\"MICROCLIMA_Comunicación\"] = dfClio[['MIC_Com_36', 'MIC_Com_37', 'MIC_Com_38']].mean(axis=\"columns\")\n",
    "dfClio[\"MICROCLIMA_Relaciones Interpersonales\"] = dfClio[['MIC_Rel_39', 'MIC_Rel_40']].mean(axis=\"columns\")\n",
    "dfClio[\"MICROCLIMA_Funcionamiento\"] = dfClio[['MIC_Fun_41', 'MIC_Fun_42']].mean(axis=\"columns\")\n",
    "dfClio[\"MICROCLIMA_Estímulo desarrollo organizacional\"] = dfClio[['MIC_Est_43', 'MIC_Est_44']].mean(axis=\"columns\")\n",
    "dfClio[\"MICROCLIMA_Liderazgo Transaccional\"] = dfClio[['MIC_LidTransac_45', 'MIC_LidTransac_46', 'MIC_LidTransac_47','MIC_LidTransac_48']].mean(axis=\"columns\")\n",
    "dfClio[\"MICROCLIMA_Liderazgo Transformacional\"] = dfClio[['MIC_LidTransfor_49', 'MIC_LidTransfor_50', 'MIC_LidTransfor_51', 'MIC_LidTransfor_52', 'MIC_LidTransfor_53']].mean(axis=\"columns\")\n",
    "dfClio[\"MICROCLIMA_Liderazgo Activo\"] = dfClio[['MIC_LidAct_54', 'MIC_LidAct_55']].mean(axis=\"columns\")\n",
    "dfClio[\"MICROCLIMA_Participación\"] = dfClio[['MIC_Par_56', 'MIC_Par_57', 'MIC_Par_58']].mean(axis=\"columns\")\n",
    "dfClio[\"MICROCLIMA_Solución de Problemas\"] = dfClio[[    'MIC_Sol_59', 'MIC_Sol_60', 'MIC_Sol_61']].mean(axis=\"columns\")\n",
    "dfClio[\"MICROCLIMA_Trabajo en Equipo\"] = dfClio[['MIC_Tra_62', 'MIC_Tra_63']].mean(axis=\"columns\")\n",
    "\n",
    "\n",
    "#SUBDIMENSIONES CLIMA PERSONAL\n",
    "dfClio[\"PERSONAL_Motivación\"] = dfClio[['CLI_Mot_64', 'CLI_Mot_65', 'CLI_Mot_66', 'CLI_Mot_67']].mean(axis=\"columns\")\n",
    "dfClio[\"PERSONAL_Comunicación\"] = dfClio[['CLI_Com_68', 'CLI_Com_69']].mean(axis=\"columns\")\n",
    "dfClio[\"PERSONAL_Relaciones Interpersonales\"] = dfClio[['CLI_Rel_70', 'CLI_Rel_71']].mean(axis=\"columns\")\n",
    "dfClio[\"PERSONAL_Funcionamiento\"] = dfClio[['CLI_Fun_72', 'CLI_Fun_73']].mean(axis=\"columns\")\n",
    "dfClio[\"PERSONAL_Condiciones de Trabajo\"] = dfClio[['CLI_Con_74', 'CLI_Con_75', 'CLI_Con_76', 'CLI_Con_77']].mean(axis=\"columns\")\n",
    "dfClio[\"PERSONAL_Estímulo desarrollo organizacional\"] = dfClio[['CLI_Est_78', 'CLI_Est_79', 'CLI_Est_80']].mean(axis=\"columns\")\n",
    "dfClio[\"PERSONAL_Liderazgo Transaccional\"] = dfClio[['CLI_LidTransac_81', 'CLI_LidTransac_82']].mean(axis=\"columns\")\n",
    "dfClio[\"PERSONAL_Liderazgo Activo\"] = dfClio[['CLI_LidAct_83', 'CLI_LidAct_84']].mean(axis=\"columns\")\n",
    "dfClio[\"PERSONAL_Participación\"] = dfClio[['CLI_Par_85', 'CLI_Par_86']].mean(axis=\"columns\")\n",
    "dfClio[\"PERSONAL_Solución de Problemas\"] = dfClio[['CLI_Sol_87', 'CLI_Sol_88']].mean(axis=\"columns\")\n",
    "dfClio[\"PERSONAL_Trabajo en Equipo\"] = dfClio[['CLI_Tra_89', 'CLI_Tra_90']].mean(axis=\"columns\")\n",
    "\n",
    "print(dfClio.columns.tolist())"
   ]
  },
  {
   "cell_type": "code",
   "execution_count": null,
   "metadata": {},
   "outputs": [],
   "source": [
    "dfClio.head()\n"
   ]
  },
  {
   "attachments": {},
   "cell_type": "markdown",
   "metadata": {},
   "source": [
    "### Transformar totales a escala de 0 a 100"
   ]
  },
  {
   "cell_type": "code",
   "execution_count": null,
   "metadata": {},
   "outputs": [],
   "source": [
    "#Sacar ítems y índices\n",
    "dfitems=dfClio.copy()\n",
    "dfindices=dfClio.copy()\n",
    "\n",
    "#Eliminar indices de items  & IDs\n",
    "dfitems = dfitems.drop(columns=['GLOBAL_GLOBAL', 'MACROCLIMA_Motivación', 'MACROCLIMA_Comunicación', 'MACROCLIMA_Relaciones Interpersonales', 'MACROCLIMA_Funcionamiento', 'MACROCLIMA_Estímulo desarrollo organizacional', 'MACROCLIMA_Liderazgo Transaccional', 'MACROCLIMA_Liderazgo Transformacional', 'MACROCLIMA_Liderazgo Activo', 'MACROCLIMA_Participación', 'MACROCLIMA_Solución de Problemas', 'MACROCLIMA_Trabajo en Equipo', 'MICROCLIMA_Motivación', 'MICROCLIMA_Comunicación', 'MICROCLIMA_Relaciones Interpersonales', 'MICROCLIMA_Funcionamiento', 'MICROCLIMA_Estímulo desarrollo organizacional', 'MICROCLIMA_Liderazgo Transaccional', 'MICROCLIMA_Liderazgo Transformacional', 'MICROCLIMA_Liderazgo Activo', 'MICROCLIMA_Participación', 'MICROCLIMA_Solución de Problemas', 'MICROCLIMA_Trabajo en Equipo', 'PERSONAL_Motivación', 'PERSONAL_Comunicación', 'PERSONAL_Relaciones Interpersonales', 'PERSONAL_Funcionamiento', 'PERSONAL_Condiciones de Trabajo', 'PERSONAL_Estímulo desarrollo organizacional', 'PERSONAL_Liderazgo Transaccional', 'PERSONAL_Liderazgo Activo', 'PERSONAL_Participación', 'PERSONAL_Solución de Problemas', 'PERSONAL_Trabajo en Equipo'])\n",
    "#Eliminar items de indices\n",
    "dfindices = dfindices.drop(columns=['MAC_Mot_1', 'MAC_Mot_2', 'MAC_Mot_3', 'MAC_Mot_4', 'MAC_Com_5', 'MAC_Com_6', 'MAC_Com_7', 'MAC_Com_8', 'MAC_Rel_9', 'MAC_Rel_10', 'MAC_Rel_11', 'MAC_Fun_12', 'MAC_Fun_13', 'MAC_Fun_14', 'MAC_Fun_15', 'MAC_Est_16', 'MAC_Est_17', 'MAC_Est_18', 'MAC_LidTransac_19', 'MAC_LidTransac_20', 'MAC_LidTransfor_21', 'MAC_LidTransfor_22', 'MAC_LidTransfor_23', 'MAC_LidAct_24', 'MAC_LidAct_25', 'MAC_Par_26', 'MAC_Par_27', 'MAC_Sol_28', 'MAC_Sol_29', 'MAC_Tra_30', 'MAC_Tra_31', 'MAC_Tra_32', 'MIC_Mot_33', 'MIC_Mot_34', 'MIC_Mot_35', 'MIC_Com_36', 'MIC_Com_37', 'MIC_Com_38', 'MIC_Rel_39', 'MIC_Rel_40', 'MIC_Fun_41', 'MIC_Fun_42', 'MIC_Est_43', 'MIC_Est_44', 'MIC_LidTransac_45', 'MIC_LidTransac_46', 'MIC_LidTransac_47', 'MIC_LidTransac_48', 'MIC_LidTransfor_49', 'MIC_LidTransfor_50', 'MIC_LidTransfor_51', 'MIC_LidTransfor_52', 'MIC_LidTransfor_53', 'MIC_LidAct_54', 'MIC_LidAct_55', 'MIC_Par_56', 'MIC_Par_57', 'MIC_Par_58', 'MIC_Sol_59', 'MIC_Sol_60', 'MIC_Sol_61', 'MIC_Tra_62', 'MIC_Tra_63', 'CLI_Mot_64', 'CLI_Mot_65', 'CLI_Mot_66', 'CLI_Mot_67', 'CLI_Com_68', 'CLI_Com_69', 'CLI_Rel_70', 'CLI_Rel_71', 'CLI_Fun_72', 'CLI_Fun_73', 'CLI_Con_74', 'CLI_Con_75', 'CLI_Con_76', 'CLI_Con_77', 'CLI_Est_78', 'CLI_Est_79', 'CLI_Est_80', 'CLI_LidTransac_81', 'CLI_LidTransac_82', 'CLI_LidAct_83', 'CLI_LidAct_84', 'CLI_Par_85', 'CLI_Par_86', 'CLI_Sol_87', 'CLI_Sol_88', 'CLI_Tra_89', 'CLI_Tra_90'])"
   ]
  },
  {
   "cell_type": "code",
   "execution_count": null,
   "metadata": {},
   "outputs": [],
   "source": [
    "#Conversión indices \n",
    "#Conversión agrupados \n",
    "dfindices[ 'GLOBAL_GLOBAL'] = dfindices[ 'GLOBAL_GLOBAL']/4\n",
    "\n",
    "dfindices['MACROCLIMA_Comunicación'] = dfindices['MACROCLIMA_Comunicación']/4\n",
    "dfindices['MACROCLIMA_Estímulo desarrollo organizacional'] = dfindices['MACROCLIMA_Estímulo desarrollo organizacional']/4\n",
    "dfindices['MACROCLIMA_Funcionamiento'] = dfindices['MACROCLIMA_Funcionamiento']/4\n",
    "dfindices['MACROCLIMA_Liderazgo Activo'] = dfindices['MACROCLIMA_Liderazgo Activo']/4\n",
    "dfindices['MACROCLIMA_Liderazgo Transaccional'] = dfindices['MACROCLIMA_Liderazgo Transaccional']/4\n",
    "dfindices['MACROCLIMA_Liderazgo Transformacional'] = dfindices['MACROCLIMA_Liderazgo Transformacional']/4\n",
    "dfindices['MACROCLIMA_Motivación'] = dfindices['MACROCLIMA_Motivación']/4\n",
    "dfindices['MACROCLIMA_Participación'] = dfindices['MACROCLIMA_Participación']/4\n",
    "dfindices['MACROCLIMA_Relaciones Interpersonales'] = dfindices['MACROCLIMA_Relaciones Interpersonales']/4\n",
    "dfindices['MACROCLIMA_Solución de Problemas'] = dfindices['MACROCLIMA_Solución de Problemas']/4\n",
    "dfindices['MACROCLIMA_Trabajo en Equipo'] = dfindices['MACROCLIMA_Trabajo en Equipo']/4\n",
    "dfindices['MICROCLIMA_Comunicación'] = dfindices['MICROCLIMA_Comunicación']/4\n",
    "dfindices['MICROCLIMA_Estímulo desarrollo organizacional'] = dfindices['MICROCLIMA_Estímulo desarrollo organizacional']/4\n",
    "dfindices['MICROCLIMA_Funcionamiento'] = dfindices['MICROCLIMA_Funcionamiento']/4\n",
    "dfindices['MICROCLIMA_Liderazgo Activo'] = dfindices['MICROCLIMA_Liderazgo Activo']/4\n",
    "dfindices['MICROCLIMA_Liderazgo Transaccional'] = dfindices['MICROCLIMA_Liderazgo Transaccional']/4\n",
    "dfindices['MICROCLIMA_Liderazgo Transformacional'] = dfindices['MICROCLIMA_Liderazgo Transformacional']/4\n",
    "dfindices['MICROCLIMA_Motivación'] = dfindices['MICROCLIMA_Motivación']/4\n",
    "dfindices['MICROCLIMA_Participación'] = dfindices['MICROCLIMA_Participación']/4\n",
    "dfindices['MICROCLIMA_Relaciones Interpersonales'] = dfindices['MICROCLIMA_Relaciones Interpersonales']/4\n",
    "dfindices['MICROCLIMA_Solución de Problemas'] = dfindices['MICROCLIMA_Solución de Problemas']/4\n",
    "dfindices['MICROCLIMA_Trabajo en Equipo'] = dfindices['MICROCLIMA_Trabajo en Equipo']/4\n",
    "dfindices['PERSONAL_Comunicación'] = dfindices['PERSONAL_Comunicación']/4\n",
    "dfindices['PERSONAL_Condiciones de Trabajo'] = dfindices['PERSONAL_Condiciones de Trabajo']/4\n",
    "dfindices['PERSONAL_Estímulo desarrollo organizacional'] = dfindices['PERSONAL_Estímulo desarrollo organizacional']/4\n",
    "dfindices['PERSONAL_Funcionamiento'] = dfindices['PERSONAL_Funcionamiento']/4\n",
    "dfindices['PERSONAL_Liderazgo Activo'] = dfindices['PERSONAL_Liderazgo Activo']/4\n",
    "dfindices['PERSONAL_Liderazgo Transaccional'] = dfindices['PERSONAL_Liderazgo Transaccional']/4\n",
    "dfindices['PERSONAL_Motivación'] = dfindices['PERSONAL_Motivación']/4\n",
    "dfindices['PERSONAL_Participación'] = dfindices['PERSONAL_Participación']/4\n",
    "dfindices['PERSONAL_Relaciones Interpersonales'] = dfindices['PERSONAL_Relaciones Interpersonales']/4\n",
    "dfindices['PERSONAL_Solución de Problemas'] = dfindices['PERSONAL_Solución de Problemas']/4\n",
    "dfindices['PERSONAL_Trabajo en Equipo'] = dfindices['PERSONAL_Trabajo en Equipo']/4"
   ]
  },
  {
   "cell_type": "code",
   "execution_count": null,
   "metadata": {},
   "outputs": [],
   "source": [
    "dfindices.head()"
   ]
  },
  {
   "attachments": {},
   "cell_type": "markdown",
   "metadata": {},
   "source": [
    "# **Analitem**"
   ]
  },
  {
   "cell_type": "code",
   "execution_count": null,
   "metadata": {},
   "outputs": [],
   "source": [
    "dfanalitemcount= df.copy()\n",
    "#Eliminar todo menos el instrumento & IDs\n",
    "dfanalitemcount = dfanalitemcount.drop(columns=['ID','Min', 'CC', 'Municipio/Ciudad de nacimiento', 'Rango de Edad', 'Identidad de Género', '¿Cuenta con alguna discapacidad?', 'Nivel de escolaridad', 'Estado Civil', 'Número de Hijos', 'Edad de los Hijos', 'Tiene hijos de 0 - 5 años', 'Tiene hijos de 6 - 11 años', 'Tiene hijos de 12 - 17 años', 'Tiene hijos de 18 en adelante', 'Tipo de Vivienda', 'TEXT1', 'TEXT2', 'SATISF1', 'ONEWORD'])\n",
    "dfanalitemcount.head()"
   ]
  },
  {
   "attachments": {},
   "cell_type": "markdown",
   "metadata": {},
   "source": [
    "### Realizar el conteo de categorías únicas para analitem"
   ]
  },
  {
   "cell_type": "code",
   "execution_count": null,
   "metadata": {},
   "outputs": [],
   "source": [
    "# Count the categories in each column\n",
    "resultanalitem = pd.concat([\n",
    "    pd.Series(dfanalitemcount[col].value_counts(), name=col).sort_index()\n",
    "    for col in dfanalitemcount.columns\n",
    "], axis=1)\n",
    "\n",
    "# Fill NaN values with 0\n",
    "resultanalitem = resultanalitem.fillna(0)\n",
    "\n",
    "# Transpose the information\n",
    "resultanalitem = resultanalitem.T\n",
    "\n",
    "# Add the category column\n",
    "resultanalitem.index.name = 'category'\n",
    "resultanalitem = resultanalitem.reset_index()\n",
    "\n",
    "#Change the type of the name columns ti string\n",
    "resultanalitem.columns = resultanalitem.columns.astype(str)"
   ]
  },
  {
   "cell_type": "code",
   "execution_count": null,
   "metadata": {},
   "outputs": [],
   "source": [
    "# Rename the columns\n",
    "resultanalitem = resultanalitem.rename(columns={'1': 'TD', '2': 'PD', '3': 'PA', '4': 'TA'})"
   ]
  },
  {
   "cell_type": "code",
   "execution_count": null,
   "metadata": {},
   "outputs": [],
   "source": [
    "resultanalitem.head()"
   ]
  },
  {
   "cell_type": "code",
   "execution_count": null,
   "metadata": {},
   "outputs": [],
   "source": [
    "#Eliminar ID para ítems\n",
    "dfitems = dfitems.drop(columns=['ID'])\n",
    "\n",
    "#Conversión de ítems\n",
    "dfitems = dfitems.apply(lambda x : x/4)\n",
    "\n",
    "#Sacar descriptivos para analitem\n",
    "dfanalitem=dfitems.describe()\n",
    "\n",
    "# Transpose the information\n",
    "dfanalitem = dfanalitem.T\n",
    "\n",
    "# Add the category column\n",
    "dfanalitem.index.name = 'category'\n",
    "dfanalitem = dfanalitem.reset_index()\n"
   ]
  },
  {
   "cell_type": "code",
   "execution_count": null,
   "metadata": {},
   "outputs": [],
   "source": [
    "dfanalitem.head()"
   ]
  },
  {
   "cell_type": "code",
   "execution_count": null,
   "metadata": {},
   "outputs": [],
   "source": [
    "#Definir la función BuscarX\n",
    "def xlookup(lookup_value, lookup_array, return_array, if_not_found:str = ''):\n",
    "    match_value = return_array.loc[lookup_array == lookup_value]\n",
    "    if match_value.empty:\n",
    "        return f'\"{lookup_value}\" not found!' if if_not_found == '' else if_not_found\n",
    "\n",
    "    else:\n",
    "        return match_value.tolist()[0]"
   ]
  },
  {
   "cell_type": "code",
   "execution_count": null,
   "metadata": {},
   "outputs": [],
   "source": [
    "#Traer el conteo de ítems\n",
    "dfanalitem['Totalmente en desacuerdo.'] = dfanalitem['category'].apply(xlookup, args = (resultanalitem['category'], resultanalitem['TD']))\n",
    "dfanalitem['Parcialmente en desacuerdo.'] = dfanalitem['category'].apply(xlookup, args = (resultanalitem['category'], resultanalitem['PD']))\n",
    "dfanalitem['Parcialmente de acuerdo.'] = dfanalitem['category'].apply(xlookup, args = (resultanalitem['category'], resultanalitem['PA']))\n",
    "dfanalitem['Totalmente de acuerdo.'] = dfanalitem['category'].apply(xlookup, args = (resultanalitem['category'], resultanalitem['TA']))"
   ]
  },
  {
   "attachments": {},
   "cell_type": "markdown",
   "metadata": {},
   "source": [
    "# **Fiabilidad y Validez**"
   ]
  },
  {
   "attachments": {},
   "cell_type": "markdown",
   "metadata": {},
   "source": [
    "### CrombachAlpha"
   ]
  },
  {
   "cell_type": "code",
   "execution_count": null,
   "metadata": {},
   "outputs": [],
   "source": [
    "import pingouin as pg\n",
    "import pandas as pd\n",
    "\n",
    "# Assume that 'dfitems' is a pandas DataFrame containing your item scores\n",
    "alpha = pg.cronbach_alpha(data=dfitems)\n",
    "print(\"Cronbach's alpha:\", alpha)"
   ]
  },
  {
   "attachments": {},
   "cell_type": "markdown",
   "metadata": {},
   "source": [
    "### PCA"
   ]
  },
  {
   "cell_type": "code",
   "execution_count": null,
   "metadata": {},
   "outputs": [],
   "source": [
    "from sklearn.decomposition import PCA\n",
    "import pandas as pd\n",
    "\n",
    "# Create a PCA object with the desired number of components\n",
    "pca = PCA(n_components=7)\n",
    "\n",
    "# Fit the PCA model to the data\n",
    "pca.fit(dfitems)\n",
    "\n",
    "# Get the explained variance ratio of all the principal components\n",
    "variance_ratio = pca.explained_variance_ratio_\n",
    "\n",
    "# Export the explained percentage variability of all the principal components\n",
    "for i, ratio in enumerate(variance_ratio):\n",
    "    print(f\"Explained variance ratio of principal component {i+1}: {ratio*100:.2f}%\")\n",
    "\n",
    "cumulative_ratio = np.cumsum(variance_ratio)\n",
    "\n",
    "# Export the cumulative variance ratio\n",
    "for i, ratio in enumerate(cumulative_ratio):\n",
    "    print(f\"Cumulative explained variance ratio up to principal component {i+1}: {ratio*100:.2f}%\")"
   ]
  },
  {
   "attachments": {},
   "cell_type": "markdown",
   "metadata": {},
   "source": [
    "# **Scores**"
   ]
  },
  {
   "attachments": {},
   "cell_type": "markdown",
   "metadata": {},
   "source": [
    "## Preparar la base para PowerBi"
   ]
  },
  {
   "cell_type": "code",
   "execution_count": null,
   "metadata": {},
   "outputs": [],
   "source": [
    "dfindices.head()"
   ]
  },
  {
   "cell_type": "code",
   "execution_count": null,
   "metadata": {},
   "outputs": [],
   "source": [
    "#Unpivotear la tabla\n",
    "dfscores = dfindices.melt(id_vars=['ID'], var_name='NivDim', value_name='PUNTUACIÓN')\n",
    "dfscores.head()"
   ]
  },
  {
   "cell_type": "code",
   "execution_count": null,
   "metadata": {},
   "outputs": [],
   "source": [
    "#Separar Nivel Y Dimensión\n",
    "dfscores[['NIVEL', 'DIMENSIÓN']] = dfscores['NivDim'].str.split('_', expand=True)\n",
    "dfscores.head()"
   ]
  },
  {
   "cell_type": "code",
   "execution_count": null,
   "metadata": {},
   "outputs": [],
   "source": [
    "#Crear el subnivel en una columna\n",
    "\n",
    "dfscores['SUBNIVEL'] = dfscores['DIMENSIÓN'].replace({'Motivación' : 'Comportamiento organizacional', 'Comunicación' : 'Comportamiento organizacional', 'Relaciones Interpersonales' : 'Comportamiento organizacional', 'Funcionamiento' : 'Estructura Organizacional', 'Estímulo al desarrollo organizacional' : 'Estructura Organizacional', 'Liderazgo Transaccional' : 'Estilos de Dirección', 'Liderazgo Transformacional' : 'Estilos de Dirección', 'Liderazgo Activo/Pasivo' : 'Estilos de Dirección', 'Participación' : 'Estilos de Dirección', 'Solución de Problemas' : 'Estilos de Dirección', 'Trabajo en Equipo' : 'Estilos de Dirección', 'Motivación' : 'Comportamiento Organizacional', 'Comunicación' : 'Comportamiento Organizacional', 'Relaciones Interpersonales' : 'Comportamiento Organizacional', 'Funcionamiento' : 'Estructura Organizacional', 'Estímulo desarrollo organizacional' : 'Estructura Organizacional', 'Liderazgo Transaccional' : 'Estilos de Dirección', 'Liderazgo Transformacional' : 'Estilos de Dirección', 'Liderazgo Activo' : 'Estilos de Dirección', 'Participación' : 'Estilos de Dirección', 'Solución de Problemas' : 'Estilos de Dirección', 'Trabajo en Equipo' : 'Estilos de Dirección', 'Motivación' : 'Comportamiento Organizacional', 'Comunicación' : 'Comportamiento Organizacional', 'Relaciones Interpersonales' : 'Comportamiento Organizacional', 'Funcionamiento' : 'Estructura Organizacional', 'Condiciones de Trabajo' : 'Estructura Organizacional', 'Estímulo al desarrollo organizacional' : 'Estructura Organizacional', 'Liderazgo Transaccional' : 'Estilos de Dirección', 'Liderazgo Activo/Pasivo' : 'Estilos de Dirección', 'Participación' : 'Estilos de Dirección', 'Solución de Problemas' : 'Estilos de Dirección', 'Trabajo en Equipo' : 'Estilos de Dirección'})"
   ]
  },
  {
   "cell_type": "code",
   "execution_count": null,
   "metadata": {},
   "outputs": [],
   "source": [
    "print(dfdemog.columns.tolist())"
   ]
  },
  {
   "cell_type": "code",
   "execution_count": null,
   "metadata": {},
   "outputs": [],
   "source": [
    "dfscores['GÉNERO'] = dfscores['ID'].apply(xlookup, args = (dfdemog['ID'], dfdemog['Identidad de Género']))\n",
    "dfscores['EDAD'] = dfscores['ID'].apply(xlookup, args = (dfdemog['ID'], dfdemog['Rango de Edad']))\n",
    "dfscores['DEPENDENCIA'] = dfscores['ID'].apply(xlookup, args = (dfdemog['ID'], dfdemog['Municipio/Ciudad de nacimiento']))"
   ]
  },
  {
   "attachments": {},
   "cell_type": "markdown",
   "metadata": {},
   "source": [
    "## Crear las recomedaciones con base en los resultados"
   ]
  },
  {
   "cell_type": "code",
   "execution_count": null,
   "metadata": {},
   "outputs": [],
   "source": [
    "#Revisar que no haya categorías repetidas\n",
    "print(dfscores['DEPENDENCIA'].unique())"
   ]
  },
  {
   "cell_type": "code",
   "execution_count": null,
   "metadata": {},
   "outputs": [],
   "source": [
    "#Reemplaza las categorías si es necesario\n",
    "#dfscores['DEPENDENCIA'] = dfscores['DEPENDENCIA'].replace({'old_category_1': 'new_category_1', 'old_category_2': 'new_category_2'})"
   ]
  },
  {
   "cell_type": "code",
   "execution_count": null,
   "metadata": {},
   "outputs": [],
   "source": [
    "#Verificar que esté en el tipo de dato correcto\n",
    "\n",
    "dfscores[\"PUNTUACIÓN\"] = dfscores[\"PUNTUACIÓN\"].astype(float)\n",
    "dfscores[\"DEPENDENCIA\"] = dfscores[\"DEPENDENCIA\"].astype(str)\n",
    "dfscores['NivDim'] = dfscores['NivDim'].astype(str)\n",
    "dfscores['NIVEL'] = dfscores['NIVEL'].astype(str)\n",
    "dfscores['DIMENSIÓN'] = dfscores['DIMENSIÓN'].astype(str)\n",
    "\n",
    "#Crear las concatenaciones\n",
    "dfscores['DepNivDim'] = dfscores['DEPENDENCIA']+ \"_\" + dfscores['NIVEL']+ \"_\" +dfscores['DIMENSIÓN']\n",
    "dfscores['DepNiv'] = dfscores['DEPENDENCIA']+ \"_\" + dfscores['NIVEL']"
   ]
  },
  {
   "attachments": {},
   "cell_type": "markdown",
   "metadata": {},
   "source": [
    "### Sacar el promedio para cada DependenciaNivelDimensión"
   ]
  },
  {
   "cell_type": "code",
   "execution_count": null,
   "metadata": {},
   "outputs": [],
   "source": [
    "PivotDep = pd.pivot_table(dfscores,values=\"PUNTUACIÓN\",index=[\"DepNivDim\", \"DEPENDENCIA\", 'NIVEL','DIMENSIÓN','DepNiv'],\n",
    "    aggfunc='mean')"
   ]
  },
  {
   "cell_type": "code",
   "execution_count": null,
   "metadata": {},
   "outputs": [],
   "source": [
    "PivotDep.head()"
   ]
  },
  {
   "cell_type": "code",
   "execution_count": null,
   "metadata": {},
   "outputs": [],
   "source": [
    "#Aplanar los títulos de las columnas a un solo nivel\n",
    "PivotDep = PivotDep.reset_index()\n",
    "PivotDep.columns = ['.'.join(map(str, col)).strip('/') for col in PivotDep.columns.values]\n",
    "PivotDep = PivotDep.rename_axis(None, axis=1)"
   ]
  },
  {
   "cell_type": "code",
   "execution_count": null,
   "metadata": {},
   "outputs": [],
   "source": [
    "PivotDep.head()"
   ]
  },
  {
   "cell_type": "code",
   "execution_count": null,
   "metadata": {},
   "outputs": [],
   "source": [
    "#RENOMBRAR LAS COLUMNAS POSTERIOR AL APLANAMIENTO\n",
    "PivotDep = PivotDep.rename(columns={'D.e.p.N.i.v.D.i.m': 'DepNivDim',\n",
    "                                            'D.E.P.E.N.D.E.N.C.I.A': 'DEPENDENCIA', \n",
    "                                            'N.I.V.E.L': 'NIVEL',\n",
    "                                            'D.I.M.E.N.S.I.Ó.N': 'DIMENSIÓN',\n",
    "                                            'D.e.p.N.i.v': 'DepNiv',\n",
    "                                            'P.U.N.T.U.A.C.I.Ó.N': 'PUNTUACIÓN'\n",
    "                                            })\n",
    "PivotDep.head()"
   ]
  },
  {
   "attachments": {},
   "cell_type": "markdown",
   "metadata": {},
   "source": [
    "### Sacar los Minimos de cada Dependencia&Nivel"
   ]
  },
  {
   "cell_type": "code",
   "execution_count": null,
   "metadata": {},
   "outputs": [],
   "source": [
    "PivotNivDep = pd.pivot_table(\n",
    "    PivotDep,\n",
    "    values=\"PUNTUACIÓN\",\n",
    "    index=['DepNiv', \"DEPENDENCIA\", 'NIVEL'],\n",
    "    aggfunc='min'\n",
    "    )"
   ]
  },
  {
   "cell_type": "code",
   "execution_count": null,
   "metadata": {},
   "outputs": [],
   "source": [
    "PivotNivDep.head()"
   ]
  },
  {
   "cell_type": "code",
   "execution_count": null,
   "metadata": {},
   "outputs": [],
   "source": [
    "#APLANAR LOS LABELS DE LAS COLUMNAS A UNO SOLO\n",
    "PivotNivDep = PivotNivDep.reset_index(col_level=1)\n",
    "PivotNivDep.columns = [col[0] if col[1] == '' else col[1] for col in PivotNivDep.columns]\n",
    "#RENOMBRAR LAS COLUMNAS POSTERIOR AL APLANAMIENTO\n",
    "PivotNivDep = PivotNivDep.rename(columns={'e': 'DepNiv', 'E': 'DEPENDENCIA', 'I': 'NIVEL', 'U': 'MINDep'})\n",
    "PivotNivDep.head()"
   ]
  },
  {
   "attachments": {},
   "cell_type": "markdown",
   "metadata": {},
   "source": [
    "### Detectar cuales son las dimensiones con valor igual al minimo por dependencia y nivel"
   ]
  },
  {
   "cell_type": "code",
   "execution_count": null,
   "metadata": {},
   "outputs": [],
   "source": [
    "PivotDep['MINDep'] = PivotDep['DepNiv'].apply(xlookup, args = (PivotNivDep['DepNiv'], PivotNivDep['MINDep']))"
   ]
  },
  {
   "cell_type": "code",
   "execution_count": null,
   "metadata": {},
   "outputs": [],
   "source": [
    "#Comparar las columnas PUNTUACIÓN  y MinDep, detectando si esa dimensión tiene el valor mínimo de esa  dependenica \n",
    "PivotDep['DetectMin'] = PivotDep.apply(lambda x: 1 if x['PUNTUACIÓN'] == x['MINDep'] else 0, axis=1)\n"
   ]
  },
  {
   "attachments": {},
   "cell_type": "markdown",
   "metadata": {},
   "source": [
    "### Crear las tablas con el texto para global y las dimensiones más bajas por nivel, para cada dependencia"
   ]
  },
  {
   "cell_type": "code",
   "execution_count": null,
   "metadata": {},
   "outputs": [],
   "source": [
    "#Crear la tabla de globales\n",
    "TextGlob= PivotDep.copy()\n",
    "TextGlob = TextGlob.drop(columns=['DepNivDim', 'DEPENDENCIA', 'DIMENSIÓN', 'MINDep', 'DetectMin'])\n",
    "#Eliminando todo lo que no sea de Nivel Global\n",
    "TextGlob = TextGlob[~(TextGlob['NIVEL'] != 'GLOBAL')]"
   ]
  },
  {
   "cell_type": "code",
   "execution_count": null,
   "metadata": {},
   "outputs": [],
   "source": [
    "TextGlob.tail()"
   ]
  },
  {
   "cell_type": "code",
   "execution_count": null,
   "metadata": {},
   "outputs": [],
   "source": [
    "#Crear las categorías\n",
    "def assign_label(value):\n",
    "    \"\"\"Assign labels to according to their value\n",
    "    \"\"\"\n",
    "    if value < 0.30:\n",
    "        label = \"Se tiene una afectación severa del clima general con involucramiento de varias categorías o dimensiones\"\n",
    "    elif value < 0.40:\n",
    "        label = \"Se tiene una afectación importante del clima general con involucramiento de varias categorías o dimensiones\"\n",
    "    elif value < 0.50:\n",
    "        label = \"Se tiene un Clima general deteriorado con involucramiento de varias categorías o dimensiones\"\n",
    "    elif value < 0.60:\n",
    "        label = \"Se tiene un Clima general debilitado y categorías por fortalecer\"\n",
    "    elif value < 0.70:\n",
    "        label = \"Se tiene un Clima general admisible para un funcionamiento estable pero con categorías por fortalecer\"\n",
    "    elif value < 0.80:\n",
    "        label = \"Clima general conveniente para un funcionamiento armónico pero con categorías por fortalecer\"\n",
    "    elif value < 0.90:\n",
    "        label = \"Clima general propicio donde se pueden perfeccionar varias categorías como reto organizacional\"\n",
    "    elif value < 1:\n",
    "        label = \"Clima general favorable donde se pueden perfeccionar pocas categorías como reto organizacional\"    \n",
    "    else:\n",
    "        label = \"Clima general muy favorable\"\n",
    "    return label\n",
    "\n",
    "#Aplicar las categorías a la variable objetivo\n",
    "TextGlob[\"TextDepNiv\"]=TextGlob[\"PUNTUACIÓN\"].apply(assign_label)"
   ]
  },
  {
   "cell_type": "code",
   "execution_count": null,
   "metadata": {},
   "outputs": [],
   "source": [
    "#Crear la tabla de TextMINDepNiv\n",
    "TextMINDepNiv= PivotDep.copy()\n",
    "TextMINDepNiv['DetectMin'] = TextMINDepNiv['DetectMin'].astype(str)\n",
    "#Eliminando todo lo que NO sea el valor minimo del nivel (0 en DetectMin)\n",
    "TextMINDepNiv = TextMINDepNiv[~(TextMINDepNiv['DetectMin'] != '1')]\n",
    "#Eliminando todo lo que no sea de Nivel Global\n",
    "TextMINDepNiv = TextMINDepNiv[~(TextMINDepNiv['NIVEL'] == 'GLOBAL')]"
   ]
  },
  {
   "cell_type": "code",
   "execution_count": null,
   "metadata": {},
   "outputs": [],
   "source": [
    "#Crear el texto para las dimensiones con menor puntuación\n",
    "TextMINDepNiv['TextDepNiv'] = \"En el nivel \" + TextMINDepNiv['NIVEL']+ \" la dimensión con puntuación más baja es \" + TextMINDepNiv['DIMENSIÓN']"
   ]
  },
  {
   "attachments": {},
   "cell_type": "markdown",
   "metadata": {},
   "source": [
    "### Crear dftext con los textos finales para dfscores"
   ]
  },
  {
   "cell_type": "code",
   "execution_count": null,
   "metadata": {},
   "outputs": [],
   "source": [
    "#Depurar datos innecesarios\n",
    "TextGlob = TextGlob.drop(columns=['NIVEL', 'PUNTUACIÓN'])\n",
    "TextMINDepNiv = TextMINDepNiv.drop(columns=['DepNivDim', 'DEPENDENCIA', 'NIVEL', 'DIMENSIÓN', 'PUNTUACIÓN', 'MINDep', 'DetectMin'])"
   ]
  },
  {
   "cell_type": "code",
   "execution_count": null,
   "metadata": {},
   "outputs": [],
   "source": [
    "#Unir los dataframes de global y el resto de niveles\n",
    "\n",
    "dftext = pd.concat([TextGlob, TextMINDepNiv])"
   ]
  },
  {
   "attachments": {},
   "cell_type": "markdown",
   "metadata": {},
   "source": [
    "### Taer textos a dfscores"
   ]
  },
  {
   "cell_type": "code",
   "execution_count": null,
   "metadata": {},
   "outputs": [],
   "source": [
    "dfscores['TextDep'] = dfscores['DepNiv'].apply(xlookup, args = (dftext['DepNiv'], dftext['TextDepNiv']))"
   ]
  },
  {
   "cell_type": "code",
   "execution_count": null,
   "metadata": {},
   "outputs": [],
   "source": [
    "#Revisar que no haya categorías repetidas\n",
    "print(dfscores['DIMENSIÓN'].unique())"
   ]
  },
  {
   "cell_type": "code",
   "execution_count": null,
   "metadata": {},
   "outputs": [],
   "source": [
    "#Crear el subnivel en una columna\n",
    "\n",
    "dfscores['SUBNIVEL'] = dfscores['DIMENSIÓN'].replace({'Motivación' : 'Comportamiento organizacional', 'Comunicación' : 'Comportamiento organizacional', 'Relaciones Interpersonales' : 'Comportamiento organizacional', 'Funcionamiento' : 'Estructura Organizacional', 'Estímulo desarrollo organizacional' : 'Estructura Organizacional', 'Liderazgo Transaccional' : 'Estilos de Dirección', 'Liderazgo Transformacional' : 'Estilos de Dirección', 'Liderazgo Activo' : 'Estilos de Dirección', 'Participación' : 'Estilos de Dirección', 'Solución de Problemas' : 'Estilos de Dirección', 'Trabajo en Equipo' : 'Estilos de Dirección', 'Motivación' : 'Comportamiento Organizacional', 'Comunicación' : 'Comportamiento Organizacional', 'Relaciones Interpersonales' : 'Comportamiento Organizacional', 'Funcionamiento' : 'Estructura Organizacional', 'Estímulo al desarrollo organizacional' : 'Estructura Organizacional', 'Liderazgo Transaccional' : 'Estilos de Dirección', 'Liderazgo Transformacional' : 'Estilos de Dirección', 'Liderazgo Activo/Pasivo' : 'Estilos de Dirección', 'Participación' : 'Estilos de Dirección', 'Solución de Problemas' : 'Estilos de Dirección', 'Trabajo en Equipo' : 'Estilos de Dirección', 'Motivación' : 'Comportamiento Organizacional', 'Comunicación' : 'Comportamiento Organizacional', 'Relaciones Interpersonales' : 'Comportamiento Organizacional', 'Funcionamiento' : 'Estructura Organizacional', 'Condiciones de Trabajo' : 'Estructura Organizacional', 'Estímulo al desarrollo organizacional' : 'Estructura Organizacional', 'Liderazgo Transaccional' : 'Estilos de Dirección', 'Liderazgo Activo/Pasivo' : 'Estilos de Dirección', 'Participación' : 'Estilos de Dirección', 'Solución de Problemas' : 'Estilos de Dirección', 'Trabajo en Equipo' : 'Estilos de Dirección'})"
   ]
  },
  {
   "cell_type": "code",
   "execution_count": null,
   "metadata": {},
   "outputs": [],
   "source": [
    "dfscores.tail()"
   ]
  },
  {
   "attachments": {},
   "cell_type": "markdown",
   "metadata": {},
   "source": [
    "# **Preguntas Adicionales**"
   ]
  },
  {
   "attachments": {},
   "cell_type": "markdown",
   "metadata": {},
   "source": [
    "### Preparar el texto"
   ]
  },
  {
   "cell_type": "code",
   "execution_count": null,
   "metadata": {},
   "outputs": [],
   "source": [
    "#Cambiar el tipo de dato\n",
    "dfadi[\"TEXT1\"] = dfadi[\"TEXT1\"].astype(str)\n",
    "dfadi[\"TEXT2\"] = dfadi[\"TEXT2\"].astype(str)\n",
    "dfadi.head()"
   ]
  },
  {
   "cell_type": "code",
   "execution_count": null,
   "metadata": {},
   "outputs": [],
   "source": [
    "#Importat paquetes para NLP\n",
    "from nltk.tokenize import word_tokenize\n",
    "from nltk.corpus import stopwords\n",
    "from nltk.stem.wordnet import WordNetLemmatizer\n",
    "from nltk.stem.porter import PorterStemmer\n",
    "from nltk.util import ngrams\n",
    "from nltk.tokenize import word_tokenize\n",
    "from unidecode import unidecode\n",
    "from nltk.collocations import TrigramAssocMeasures, TrigramCollocationFinder\n",
    "import collections\n",
    "import string\n",
    "nltk.download('stopwords')"
   ]
  },
  {
   "cell_type": "code",
   "execution_count": null,
   "metadata": {},
   "outputs": [],
   "source": [
    "#Definir la función para limpiar el texto\n",
    "def clean_text(text):\n",
    "    # Convert text to lowercase\n",
    "    text = text.lower()\n",
    "    \n",
    "    # Remove accents\n",
    "    text = unidecode(text)\n",
    "    \n",
    "    # Remove punctuation marks\n",
    "    text = text.translate(str.maketrans('', '', string.punctuation))\n",
    "    \n",
    "    # Tokenize the text into individual words\n",
    "    tokens = word_tokenize(text)\n",
    "    \n",
    "    # Remove stopwords\n",
    "    stop_words = set(stopwords.words('spanish'))\n",
    "    filtered_tokens = [token for token in tokens if token not in stop_words]\n",
    "    \n",
    "    # Join the filtered tokens back into a single string\n",
    "    cleaned_text = ' '.join(filtered_tokens)\n",
    "    \n",
    "    return cleaned_text"
   ]
  },
  {
   "cell_type": "code",
   "execution_count": null,
   "metadata": {},
   "outputs": [],
   "source": [
    "#Aplicar la función en el texto\n",
    "dfadi[\"CleanTEXT1\"] = dfadi[\"TEXT1\"].apply(clean_text)\n",
    "dfadi[\"CleanTEXT2\"] = dfadi[\"TEXT2\"].apply(clean_text)"
   ]
  },
  {
   "attachments": {},
   "cell_type": "markdown",
   "metadata": {},
   "source": [
    "### Quitar las palbras que pueden ser NO relevantes (Nombre empresa)"
   ]
  },
  {
   "cell_type": "code",
   "execution_count": null,
   "metadata": {},
   "outputs": [],
   "source": [
    "#Quitar las palabras comunes que pueden no ser relevantes\n",
    "words_to_remove = ['clima','organizacional','laboral','debe','deben','deberian']\n",
    "\n",
    "dfadi[\"CleanTEXT1\"] = dfadi[\"CleanTEXT1\"].apply(lambda x: ' '.join([word for word in x.split() if word not in words_to_remove]))\n",
    "dfadi[\"CleanTEXT2\"] = dfadi[\"CleanTEXT2\"].apply(lambda x: ' '.join([word for word in x.split() if word not in words_to_remove]))\n"
   ]
  },
  {
   "cell_type": "code",
   "execution_count": null,
   "metadata": {},
   "outputs": [],
   "source": [
    "#Tokenizar y generar ngramas\n",
    "dfadi['TokenTEXT1'] = dfadi['CleanTEXT1'].apply(word_tokenize)\n",
    "dfadi['TokenTEXT1'] = dfadi['TokenTEXT1'].apply(lambda x: list(ngrams(x, 3)))\n",
    "\n",
    "dfadi['TokenTEXT2'] = dfadi['CleanTEXT2'].apply(word_tokenize)\n",
    "dfadi['TokenTEXT2'] = dfadi['TokenTEXT2'].apply(lambda x: list(ngrams(x, 3)))"
   ]
  },
  {
   "attachments": {},
   "cell_type": "markdown",
   "metadata": {},
   "source": [
    "### Sacar frecuencia de trigramas"
   ]
  },
  {
   "cell_type": "code",
   "execution_count": null,
   "metadata": {},
   "outputs": [],
   "source": [
    "#Concatenar ngramas\n",
    "all_trigrams = []\n",
    "for trigrams in dfadi['TokenTEXT1']:\n",
    "    all_trigrams.extend(trigrams)"
   ]
  },
  {
   "cell_type": "code",
   "execution_count": null,
   "metadata": {},
   "outputs": [],
   "source": [
    "#Sacar frecuencia\n",
    "trigram_freq = nltk.FreqDist(all_trigrams)\n",
    "sorted_freq = collections.Counter(trigram_freq)\n",
    "\n",
    "top_ideas = []\n",
    "for trigram, freq in sorted_freq.most_common(20):\n",
    "    top_ideas.append(' '.join(trigram))\n",
    "    \n",
    "print(top_ideas)"
   ]
  },
  {
   "cell_type": "code",
   "execution_count": null,
   "metadata": {},
   "outputs": [],
   "source": [
    "dfadi.head()"
   ]
  },
  {
   "attachments": {},
   "cell_type": "markdown",
   "metadata": {},
   "source": [
    "### Calcular Satisfacción"
   ]
  },
  {
   "cell_type": "code",
   "execution_count": null,
   "metadata": {},
   "outputs": [],
   "source": [
    "dfSatisf = dfadi['SATISF1'].value_counts()\n",
    "print(dfSatisf)"
   ]
  },
  {
   "cell_type": "code",
   "execution_count": null,
   "metadata": {},
   "outputs": [],
   "source": [
    "%who DataFrame"
   ]
  },
  {
   "attachments": {},
   "cell_type": "markdown",
   "metadata": {},
   "source": [
    "# **Exportar archivo**"
   ]
  },
  {
   "cell_type": "code",
   "execution_count": null,
   "metadata": {},
   "outputs": [],
   "source": [
    "writer = pd.ExcelWriter('OutputPython_Empresa.xlsx')\n",
    "dfdemog.to_excel(writer, sheet_name='Demograf', index=False)\n",
    "dfanalitem.to_excel(writer, sheet_name='Analitem', index=False)\n",
    "dfscores.to_excel(writer, sheet_name='Scores', index=False)\n",
    "dfadi.to_excel(writer, sheet_name='Adicionales', index=False)\n",
    "writer.save()\n",
    "writer.close()"
   ]
  }
 ],
 "metadata": {
  "kernelspec": {
   "display_name": "base",
   "language": "python",
   "name": "python3"
  },
  "language_info": {
   "codemirror_mode": {
    "name": "ipython",
    "version": 3
   },
   "file_extension": ".py",
   "mimetype": "text/x-python",
   "name": "python",
   "nbconvert_exporter": "python",
   "pygments_lexer": "ipython3",
   "version": "3.9.13"
  },
  "orig_nbformat": 4,
  "vscode": {
   "interpreter": {
    "hash": "6cb584bce7a690981fd3ef97bd4272ba2135857a234a1d1c7ceb77829bfef87e"
   }
  }
 },
 "nbformat": 4,
 "nbformat_minor": 2
}
